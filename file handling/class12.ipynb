{
 "cells": [
  {
   "cell_type": "code",
   "execution_count": null,
   "metadata": {},
   "outputs": [
    {
     "name": "stdout",
     "output_type": "stream",
     "text": [
      "logic1\n",
      "logic2\n",
      "2.5\n",
      "1\n",
      "Zerro Division Error!\n",
      "logic4\n",
      "logic5\n"
     ]
    }
   ],
   "source": [
    "print(\"logic1\")\n",
    "print(\"logic2\")\n",
    "\n",
    "l1 : list[int] = [1,2,3]\n",
    "\n",
    "try:\n",
    "    print(5/2)\n",
    "    print(l1[0])\n",
    "    print(xyz) # error\n",
    "except (ZeroDivisionError,IndexError,NameError):\n",
    "    print(\"Zerro Division Error!\")\n",
    "print(\"logic4\")\n",
    "print(\"logic5\")"
   ]
  },
  {
   "cell_type": "code",
   "execution_count": 2,
   "metadata": {},
   "outputs": [
    {
     "name": "stdout",
     "output_type": "stream",
     "text": [
      "logic1\n",
      "logic2\n",
      "2.5\n",
      "1\n",
      "Some thing is wrong!\n",
      "logic4\n",
      "logic5\n"
     ]
    }
   ],
   "source": [
    "print(\"logic1\")\n",
    "print(\"logic2\")\n",
    "\n",
    "l1 : list[int] = [1,2,3]\n",
    "\n",
    "try:\n",
    "    print(5/2)\n",
    "    print(l1[0])# Error\n",
    "    # print(xyz) # error\n",
    "    open(\"aa.txt\")\n",
    "except (ZeroDivisionError):\n",
    "    print(\"Zerro Division Error!\")\n",
    "except IndexError:\n",
    "    print(\"Index Error\")\n",
    "except NameError:\n",
    "    print(\"Name not defined\")\n",
    "except:\n",
    "    print(\"Some thing is wrong!\")\n",
    "\n",
    "\n",
    "print(\"logic4\")\n",
    "print(\"logic5\")"
   ]
  },
  {
   "cell_type": "code",
   "execution_count": 3,
   "metadata": {},
   "outputs": [
    {
     "name": "stdout",
     "output_type": "stream",
     "text": [
      "Some thing is wrong!\n",
      "list index out of range\n"
     ]
    }
   ],
   "source": [
    "try:\n",
    "    # print(age)\n",
    "    print(l1[200])\n",
    "except Exception as e:\n",
    "    print(f\"Some thing is wrong!\\n{e}\")"
   ]
  },
  {
   "cell_type": "code",
   "execution_count": 10,
   "metadata": {},
   "outputs": [
    {
     "ename": "TypeError",
     "evalue": "exceptions must derive from BaseException",
     "output_type": "error",
     "traceback": [
      "\u001b[0;31m---------------------------------------------------------------------------\u001b[0m",
      "\u001b[0;31mTypeError\u001b[0m                                 Traceback (most recent call last)",
      "Cell \u001b[0;32mIn[10], line 1\u001b[0m\n\u001b[0;32m----> 1\u001b[0m \u001b[39mraise\u001b[39;00m \u001b[39m\"\u001b[39m\u001b[39maa\u001b[39m\u001b[39m\"\u001b[39m\n",
      "\u001b[0;31mTypeError\u001b[0m: exceptions must derive from BaseException"
     ]
    }
   ],
   "source": []
  },
  {
   "cell_type": "code",
   "execution_count": 5,
   "metadata": {},
   "outputs": [
    {
     "name": "stdout",
     "output_type": "stream",
     "text": [
      "Qasim 1 30\n"
     ]
    }
   ],
   "source": [
    "class StudentCard():\n",
    "    def __init__(self, roll_no:int, name:str, age:int) -> None:\n",
    "        if age < 18 or age > 60:\n",
    "            raise StudentAgeError(\"Your are not eligible for this program!\")\n",
    "        self.roll_no = roll_no\n",
    "        self.name = name\n",
    "        self.age = age\n",
    "\n",
    "\n",
    "class StudentAgeError(Exception):# custom error class\n",
    "    pass\n",
    "\n",
    "studen1 = StudentCard(1,\"Qasim\",30)\n",
    "\n",
    "print(studen1.name, studen1.roll_no, studen1.age)"
   ]
  },
  {
   "cell_type": "code",
   "execution_count": 12,
   "metadata": {},
   "outputs": [
    {
     "ename": "StudentAgeError",
     "evalue": "Your are not eligible for this program!",
     "output_type": "error",
     "traceback": [
      "\u001b[0;31m---------------------------------------------------------------------------\u001b[0m",
      "\u001b[0;31mStudentAgeError\u001b[0m                           Traceback (most recent call last)",
      "Cell \u001b[0;32mIn[12], line 1\u001b[0m\n\u001b[0;32m----> 1\u001b[0m studen1 \u001b[39m=\u001b[39m StudentCard(\u001b[39m1\u001b[39;49m,\u001b[39m\"\u001b[39;49m\u001b[39mHammad\u001b[39;49m\u001b[39m\"\u001b[39;49m,\u001b[39m61\u001b[39;49m)\n\u001b[1;32m      3\u001b[0m \u001b[39mprint\u001b[39m(studen1\u001b[39m.\u001b[39mname, studen1\u001b[39m.\u001b[39mroll_no, studen1\u001b[39m.\u001b[39mage)\n",
      "Cell \u001b[0;32mIn[11], line 4\u001b[0m, in \u001b[0;36mStudentCard.__init__\u001b[0;34m(self, roll_no, name, age)\u001b[0m\n\u001b[1;32m      2\u001b[0m \u001b[39mdef\u001b[39;00m \u001b[39m__init__\u001b[39m(\u001b[39mself\u001b[39m, roll_no:\u001b[39mint\u001b[39m, name:\u001b[39mstr\u001b[39m, age:\u001b[39mint\u001b[39m) \u001b[39m-\u001b[39m\u001b[39m>\u001b[39m \u001b[39mNone\u001b[39;00m:\n\u001b[1;32m      3\u001b[0m     \u001b[39mif\u001b[39;00m age \u001b[39m<\u001b[39m \u001b[39m18\u001b[39m \u001b[39mor\u001b[39;00m age \u001b[39m>\u001b[39m \u001b[39m60\u001b[39m:\n\u001b[0;32m----> 4\u001b[0m         \u001b[39mraise\u001b[39;00m StudentAgeError(\u001b[39m\"\u001b[39m\u001b[39mYour are not eligible for this program!\u001b[39m\u001b[39m\"\u001b[39m)\n\u001b[1;32m      5\u001b[0m     \u001b[39mself\u001b[39m\u001b[39m.\u001b[39mroll_no \u001b[39m=\u001b[39m roll_no\n\u001b[1;32m      6\u001b[0m     \u001b[39mself\u001b[39m\u001b[39m.\u001b[39mname \u001b[39m=\u001b[39m name\n",
      "\u001b[0;31mStudentAgeError\u001b[0m: Your are not eligible for this program!"
     ]
    }
   ],
   "source": [
    "studen1 = StudentCard(1,\"Hammad\",61)\n",
    "\n",
    "print(studen1.name, studen1.roll_no, studen1.age)"
   ]
  },
  {
   "cell_type": "code",
   "execution_count": 13,
   "metadata": {},
   "outputs": [
    {
     "ename": "StudentAgeError",
     "evalue": "Your are not eligible for this program!",
     "output_type": "error",
     "traceback": [
      "\u001b[0;31m---------------------------------------------------------------------------\u001b[0m",
      "\u001b[0;31mStudentAgeError\u001b[0m                           Traceback (most recent call last)",
      "Cell \u001b[0;32mIn[13], line 1\u001b[0m\n\u001b[0;32m----> 1\u001b[0m studen1 \u001b[39m=\u001b[39m StudentCard(\u001b[39m1\u001b[39;49m,\u001b[39m\"\u001b[39;49m\u001b[39mHammad\u001b[39;49m\u001b[39m\"\u001b[39;49m,\u001b[39m16\u001b[39;49m)\n\u001b[1;32m      3\u001b[0m \u001b[39mprint\u001b[39m(studen1\u001b[39m.\u001b[39mname, studen1\u001b[39m.\u001b[39mroll_no, studen1\u001b[39m.\u001b[39mage)\n",
      "Cell \u001b[0;32mIn[11], line 4\u001b[0m, in \u001b[0;36mStudentCard.__init__\u001b[0;34m(self, roll_no, name, age)\u001b[0m\n\u001b[1;32m      2\u001b[0m \u001b[39mdef\u001b[39;00m \u001b[39m__init__\u001b[39m(\u001b[39mself\u001b[39m, roll_no:\u001b[39mint\u001b[39m, name:\u001b[39mstr\u001b[39m, age:\u001b[39mint\u001b[39m) \u001b[39m-\u001b[39m\u001b[39m>\u001b[39m \u001b[39mNone\u001b[39;00m:\n\u001b[1;32m      3\u001b[0m     \u001b[39mif\u001b[39;00m age \u001b[39m<\u001b[39m \u001b[39m18\u001b[39m \u001b[39mor\u001b[39;00m age \u001b[39m>\u001b[39m \u001b[39m60\u001b[39m:\n\u001b[0;32m----> 4\u001b[0m         \u001b[39mraise\u001b[39;00m StudentAgeError(\u001b[39m\"\u001b[39m\u001b[39mYour are not eligible for this program!\u001b[39m\u001b[39m\"\u001b[39m)\n\u001b[1;32m      5\u001b[0m     \u001b[39mself\u001b[39m\u001b[39m.\u001b[39mroll_no \u001b[39m=\u001b[39m roll_no\n\u001b[1;32m      6\u001b[0m     \u001b[39mself\u001b[39m\u001b[39m.\u001b[39mname \u001b[39m=\u001b[39m name\n",
      "\u001b[0;31mStudentAgeError\u001b[0m: Your are not eligible for this program!"
     ]
    }
   ],
   "source": [
    "studen1 = StudentCard(1,\"Hammad\",16)\n",
    "\n",
    "print(studen1.name, studen1.roll_no, studen1.age)"
   ]
  },
  {
   "cell_type": "markdown",
   "metadata": {},
   "source": [
    "# File Handling"
   ]
  },
  {
   "cell_type": "markdown",
   "metadata": {},
   "source": [
    "<table class=\"s-table\">\n",
    "    <thead>\n",
    "    <tr>\n",
    "    <th style=\"text-align: center;\">Mode</th>\n",
    "    <th style=\"text-align: center;\">r</th>\n",
    "    <th style=\"text-align: center;\">r+</th>\n",
    "    <th style=\"text-align: center;\">w</th>\n",
    "    <th style=\"text-align: center;\">w+</th>\n",
    "    <th style=\"text-align: center;\">a</th>\n",
    "    <th style=\"text-align: center;\">a+</th>\n",
    "    </tr>\n",
    "    </thead>\n",
    "    <tbody>\n",
    "    <tr>\n",
    "    <td style=\"text-align: center;\">Read</td>\n",
    "    <td style=\"text-align: center;\">+</td>\n",
    "    <td style=\"text-align: center;\">+</td>\n",
    "    <td style=\"text-align: center;\"></td>\n",
    "    <td style=\"text-align: center;\">+</td>\n",
    "    <td style=\"text-align: center;\"></td>\n",
    "    <td style=\"text-align: center;\">+</td>\n",
    "    </tr>\n",
    "    <tr>\n",
    "    <td style=\"text-align: center;\">Write</td>\n",
    "    <td style=\"text-align: center;\"></td>\n",
    "    <td style=\"text-align: center;\">+</td>\n",
    "    <td style=\"text-align: center;\">+</td>\n",
    "    <td style=\"text-align: center;\">+</td>\n",
    "    <td style=\"text-align: center;\">+</td>\n",
    "    <td style=\"text-align: center;\">+</td>\n",
    "    </tr>\n",
    "    <tr>\n",
    "    <td style=\"text-align: center;\">Create</td>\n",
    "    <td style=\"text-align: center;\"></td>\n",
    "    <td style=\"text-align: center;\"></td>\n",
    "    <td style=\"text-align: center;\">+</td>\n",
    "    <td style=\"text-align: center;\">+</td>\n",
    "    <td style=\"text-align: center;\">+</td>\n",
    "    <td style=\"text-align: center;\">+</td>\n",
    "    </tr>\n",
    "    <tr>\n",
    "    <td style=\"text-align: center;\">Cover</td>\n",
    "    <td style=\"text-align: center;\"></td>\n",
    "    <td style=\"text-align: center;\"></td>\n",
    "    <td style=\"text-align: center;\">+</td>\n",
    "    <td style=\"text-align: center;\">+</td>\n",
    "    <td style=\"text-align: center;\"></td>\n",
    "    <td style=\"text-align: center;\"></td>\n",
    "    </tr>\n",
    "    <tr>\n",
    "    <td style=\"text-align: center;\">Point in the beginning</td>\n",
    "    <td style=\"text-align: center;\">+</td>\n",
    "    <td style=\"text-align: center;\">+</td>\n",
    "    <td style=\"text-align: center;\">+</td>\n",
    "    <td style=\"text-align: center;\">+</td>\n",
    "    <td style=\"text-align: center;\"></td>\n",
    "    <td style=\"text-align: center;\"></td>\n",
    "    </tr>\n",
    "    <tr>\n",
    "    <td style=\"text-align: center;\">Point in the end</td>\n",
    "    <td style=\"text-align: center;\"></td>\n",
    "    <td style=\"text-align: center;\"></td>\n",
    "    <td style=\"text-align: center;\"></td>\n",
    "    <td style=\"text-align: center;\"></td>\n",
    "    <td style=\"text-align: center;\">+</td>\n",
    "    <td style=\"text-align: center;\">+</td>\n",
    "    </tr>\n",
    "    </tbody>\n",
    "    </table>"
   ]
  },
  {
   "cell_type": "code",
   "execution_count": 70,
   "metadata": {},
   "outputs": [
    {
     "name": "stdout",
     "output_type": "stream",
     "text": [
      "Pakistan zindad\n"
     ]
    }
   ],
   "source": [
    "data=open(\"ca1.txt\",\"r\")\n",
    "print(data.read())\n",
    "data.close()"
   ]
  },
  {
   "cell_type": "markdown",
   "metadata": {},
   "source": [
    "## Overwrite `abc.txt` with new content."
   ]
  },
  {
   "cell_type": "code",
   "execution_count": null,
   "metadata": {},
   "outputs": [],
   "source": [
    "data = open(\"ca1.txt\", \"w\")\n",
    "data.write(\"This line replaces all old content.\")\n",
    "data.close()"
   ]
  },
  {
   "cell_type": "markdown",
   "metadata": {},
   "source": [
    "## Add new content to the end of `abc.txt`"
   ]
  },
  {
   "cell_type": "code",
   "execution_count": 11,
   "metadata": {},
   "outputs": [
    {
     "name": "stdout",
     "output_type": "stream",
     "text": [
      "This line replaces all old content.\n"
     ]
    }
   ],
   "source": [
    "data= open(\"./abc.txt\",\"r\") # connectivity with abc.txt file\n",
    "print(data.read())\n",
    "data.close() # close connectivity"
   ]
  },
  {
   "cell_type": "code",
   "execution_count": 12,
   "metadata": {},
   "outputs": [],
   "source": [
    "data = open(\"abc.txt\", \"a\")\n",
    "data.write(\"\\n--Appended Text--\")\n",
    "data.close()"
   ]
  },
  {
   "cell_type": "markdown",
   "metadata": {},
   "source": [
    "## (Read/Write) | Read, then seek to the beginning and `overwrite` the first few characters."
   ]
  },
  {
   "cell_type": "code",
   "execution_count": 62,
   "metadata": {},
   "outputs": [
    {
     "name": "stdout",
     "output_type": "stream",
     "text": [
      "Punjab College\n"
     ]
    }
   ],
   "source": [
    "data = open(\"ca1.txt\", \"r+\")\n",
    "# Read the file\n",
    "print(data.read())\n",
    "# Overwrite the start\n",
    "data.write(\"OVERWRITE\")\n",
    "data.close()"
   ]
  },
  {
   "cell_type": "markdown",
   "metadata": {},
   "source": [
    "## (Write/Read) | `Truncate` the file, write new content, then read it back."
   ]
  },
  {
   "cell_type": "code",
   "execution_count": 68,
   "metadata": {},
   "outputs": [
    {
     "name": "stdout",
     "output_type": "stream",
     "text": [
      "New line for reading.\n"
     ]
    }
   ],
   "source": [
    "data = open(\"ca1.txt\", \"w+\")\n",
    "data.write(\"New line for reading.\")\n",
    "# Move cursor to the start for reading\n",
    "data.seek(0)\n",
    "content = data.read()\n",
    "print(content)\n",
    "data.close()"
   ]
  },
  {
   "cell_type": "markdown",
   "metadata": {},
   "source": [
    "## **`a+`** (Append/Read) | Read the existing content, then **append** new content to the end."
   ]
  },
  {
   "cell_type": "code",
   "execution_count": 21,
   "metadata": {},
   "outputs": [
    {
     "name": "stdout",
     "output_type": "stream",
     "text": [
      "New line for reading.\n",
      "Final Append.\n"
     ]
    }
   ],
   "source": [
    "data = open(\"abc.txt\", \"a+\")\n",
    "# Move cursor to the start for reading\n",
    "data.seek(0) \n",
    "content = data.read()\n",
    "print(content)\n",
    "# Writing automatically goes to the end\n",
    "data.write(\"\\nFinal Append.\") \n",
    "data.close()"
   ]
  },
  {
   "cell_type": "code",
   "execution_count": 24,
   "metadata": {},
   "outputs": [
    {
     "name": "stdout",
     "output_type": "stream",
     "text": [
      "New line for reading.\n",
      "Final Append.\n",
      "Final Append.\n"
     ]
    }
   ],
   "source": [
    "with open(\"./abc.txt\",\"r\") as file:\n",
    "    print(file.read())"
   ]
  },
  {
   "cell_type": "code",
   "execution_count": 26,
   "metadata": {},
   "outputs": [
    {
     "name": "stdout",
     "output_type": "stream",
     "text": [
      "New line for reading.\n",
      "\n",
      "Final Append.\n",
      "\n",
      "Final Append.\n"
     ]
    }
   ],
   "source": [
    "with open(\"./abc.txt\") as file: \n",
    "    print(file.readline()) # read only one line (first line)\n",
    "    print(file.readline())# line2\n",
    "    print(file.readline())# line3"
   ]
  },
  {
   "cell_type": "code",
   "execution_count": 28,
   "metadata": {},
   "outputs": [
    {
     "name": "stdout",
     "output_type": "stream",
     "text": [
      "New line for reading.\n",
      "Final Append.\n",
      "Final Append."
     ]
    }
   ],
   "source": [
    "with open(\"./abc.txt\") as file:\n",
    "    print(file.readline(), end=\"\") # read only one line \n",
    "    print(file.readline(), end=\"\")# line2\n",
    "    print(file.readline(), end=\"\")# line3"
   ]
  },
  {
   "cell_type": "code",
   "execution_count": 29,
   "metadata": {},
   "outputs": [
    {
     "name": "stdout",
     "output_type": "stream",
     "text": [
      "['New line for reading.\\n', 'Final Append.\\n', 'Final Append.']\n"
     ]
    }
   ],
   "source": [
    "with open(\"./abc.txt\") as file: \n",
    "    print(file.readlines()) # \n",
    "    "
   ]
  },
  {
   "cell_type": "code",
   "execution_count": 30,
   "metadata": {},
   "outputs": [
    {
     "name": "stdout",
     "output_type": "stream",
     "text": [
      "['New line for reading.\\n', 'Final Append.\\n', 'Final Append.']\n"
     ]
    }
   ],
   "source": [
    "with open(\"./abc.txt\", 'r') as file:\n",
    "    print(file.readlines()[:3]) "
   ]
  },
  {
   "cell_type": "code",
   "execution_count": 31,
   "metadata": {},
   "outputs": [
    {
     "name": "stdout",
     "output_type": "stream",
     "text": [
      "New line for reading.\n",
      "Final Append.\n",
      "Final Append.\n"
     ]
    },
    {
     "ename": "UnsupportedOperation",
     "evalue": "not writable",
     "output_type": "error",
     "traceback": [
      "\u001b[31m---------------------------------------------------------------------------\u001b[39m",
      "\u001b[31mUnsupportedOperation\u001b[39m                      Traceback (most recent call last)",
      "\u001b[36mCell\u001b[39m\u001b[36m \u001b[39m\u001b[32mIn[31]\u001b[39m\u001b[32m, line 3\u001b[39m\n\u001b[32m      1\u001b[39m \u001b[38;5;28;01mwith\u001b[39;00m \u001b[38;5;28mopen\u001b[39m(\u001b[33m\"\u001b[39m\u001b[33m./abc.txt\u001b[39m\u001b[33m\"\u001b[39m, \u001b[33m'\u001b[39m\u001b[33mr\u001b[39m\u001b[33m'\u001b[39m) \u001b[38;5;28;01mas\u001b[39;00m file:\n\u001b[32m      2\u001b[39m     \u001b[38;5;28mprint\u001b[39m(file.read())\n\u001b[32m----> \u001b[39m\u001b[32m3\u001b[39m     \u001b[43mfile\u001b[49m\u001b[43m.\u001b[49m\u001b[43mwrite\u001b[49m\u001b[43m(\u001b[49m\u001b[33;43m\"\u001b[39;49m\u001b[33;43mPakistan zinda bad\u001b[39;49m\u001b[33;43m\"\u001b[39;49m\u001b[43m)\u001b[49m\n",
      "\u001b[31mUnsupportedOperation\u001b[39m: not writable"
     ]
    }
   ],
   "source": [
    "with open(\"./abc.txt\", 'r') as file:\n",
    "    print(file.read())\n",
    "    file.write(\"Pakistan zinda bad\")\n",
    "    "
   ]
  },
  {
   "cell_type": "code",
   "execution_count": 32,
   "metadata": {},
   "outputs": [
    {
     "ename": "UnsupportedOperation",
     "evalue": "not readable",
     "output_type": "error",
     "traceback": [
      "\u001b[31m---------------------------------------------------------------------------\u001b[39m",
      "\u001b[31mUnsupportedOperation\u001b[39m                      Traceback (most recent call last)",
      "\u001b[36mCell\u001b[39m\u001b[36m \u001b[39m\u001b[32mIn[32]\u001b[39m\u001b[32m, line 2\u001b[39m\n\u001b[32m      1\u001b[39m \u001b[38;5;28;01mwith\u001b[39;00m \u001b[38;5;28mopen\u001b[39m(\u001b[33m\"\u001b[39m\u001b[33m./abc.txt\u001b[39m\u001b[33m\"\u001b[39m, \u001b[33m'\u001b[39m\u001b[33mw\u001b[39m\u001b[33m'\u001b[39m) \u001b[38;5;28;01mas\u001b[39;00m file:  \u001b[38;5;66;03m# type: TextIO\u001b[39;00m\n\u001b[32m----> \u001b[39m\u001b[32m2\u001b[39m     \u001b[38;5;28mprint\u001b[39m(\u001b[43mfile\u001b[49m\u001b[43m.\u001b[49m\u001b[43mread\u001b[49m\u001b[43m(\u001b[49m\u001b[43m)\u001b[49m)\n\u001b[32m      3\u001b[39m     file.write(\u001b[33m\"\u001b[39m\u001b[33mPakistan zinda bad\u001b[39m\u001b[33m\"\u001b[39m)\n",
      "\u001b[31mUnsupportedOperation\u001b[39m: not readable"
     ]
    }
   ],
   "source": [
    "with open(\"./abc.txt\", 'w') as file:  # type: TextIO\n",
    "    print(file.read())\n",
    "    file.write(\"Pakistan zinda bad\")\n",
    "    "
   ]
  },
  {
   "cell_type": "code",
   "execution_count": 69,
   "metadata": {},
   "outputs": [],
   "source": [
    "with open(\"ca1.txt\", 'w') as file: \n",
    "    file.write(\"Pakistan zindad\")\n",
    "    "
   ]
  },
  {
   "cell_type": "code",
   "execution_count": 36,
   "metadata": {},
   "outputs": [
    {
     "name": "stdout",
     "output_type": "stream",
     "text": [
      "pakistan\n"
     ]
    }
   ],
   "source": [
    "with open(\"./abc.txt\", 'r+') as file: \n",
    "    print(file.read())\n",
    "    file.write(\"WE love our country!\")"
   ]
  },
  {
   "cell_type": "code",
   "execution_count": 40,
   "metadata": {},
   "outputs": [
    {
     "name": "stdout",
     "output_type": "stream",
     "text": [
      "Pakistan\n",
      "After \n"
     ]
    }
   ],
   "source": [
    "with open(\"./abc.txt\", 'r+') as file:\n",
    "    print(file.read())\n",
    "\n",
    "    file.write(\"WE love our country!\")\n",
    "\n",
    "    print(\"After\",file.read())"
   ]
  },
  {
   "cell_type": "code",
   "execution_count": 42,
   "metadata": {},
   "outputs": [
    {
     "name": "stdout",
     "output_type": "stream",
     "text": [
      "PakistanWE love our country!\n",
      "After PakistanWE love our country!WE love our country!\n"
     ]
    }
   ],
   "source": [
    "with open(\"./abc.txt\", 'r+') as file: \n",
    "    print(file.read())\n",
    "\n",
    "    file.write(\"WE love our country!\")\n",
    "    file.seek(0)\n",
    "\n",
    "    print(\"After\",file.read())"
   ]
  },
  {
   "cell_type": "markdown",
   "metadata": {},
   "source": [
    "## Now change modes"
   ]
  },
  {
   "cell_type": "code",
   "execution_count": 44,
   "metadata": {},
   "outputs": [
    {
     "name": "stdout",
     "output_type": "stream",
     "text": [
      "PakistanWE love our country!WE love our country!\n"
     ]
    }
   ],
   "source": [
    "with open(\"./abc.txt\", 'r') as file:\n",
    "    print(file.read())"
   ]
  },
  {
   "cell_type": "code",
   "execution_count": 45,
   "metadata": {},
   "outputs": [],
   "source": [
    "with open(\"./abc7.txt\", 'w') as file:  # type: TextIO\n",
    "    # print(file.read())\n",
    "    file.write(\"Pakistan\") \n",
    "\n",
    "# if file exist then it overwrite the text\n",
    "# if file not exist then it will create new file"
   ]
  },
  {
   "cell_type": "code",
   "execution_count": 47,
   "metadata": {},
   "outputs": [],
   "source": [
    "with open(\"./abc8.txt\", 'a') as file:  # type: TextIO\n",
    "    # print(file.read())\n",
    "    file.write(\"Pakistan\") \n",
    "\n",
    "# if file exist then it overwrite the text\n",
    "# if file not exist then it will create new file"
   ]
  },
  {
   "cell_type": "markdown",
   "metadata": {},
   "source": []
  },
  {
   "cell_type": "code",
   "execution_count": 48,
   "metadata": {},
   "outputs": [],
   "source": [
    "with open(\"./abc8.txt\", 'a') as file:  # type: TextIO\n",
    "    # print(file.read())\n",
    "    file.write(\"line3\") \n",
    "\n",
    "# if file not exist then it will create new file\n",
    "# add content in last\n",
    "\n"
   ]
  }
 ],
 "metadata": {
  "kernelspec": {
   "display_name": "Python 3",
   "language": "python",
   "name": "python3"
  },
  "language_info": {
   "codemirror_mode": {
    "name": "ipython",
    "version": 3
   },
   "file_extension": ".py",
   "mimetype": "text/x-python",
   "name": "python",
   "nbconvert_exporter": "python",
   "pygments_lexer": "ipython3",
   "version": "3.12.8"
  },
  "orig_nbformat": 4
 },
 "nbformat": 4,
 "nbformat_minor": 2
}
